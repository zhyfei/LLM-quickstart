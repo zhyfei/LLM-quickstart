{
 "cells": [
  {
   "cell_type": "code",
   "execution_count": 16,
   "id": "5bc334d7-2ce4-4e8e-8617-3d52a218a4ec",
   "metadata": {
    "scrolled": true
   },
   "outputs": [
    {
     "name": "stdout",
     "output_type": "stream",
     "text": [
      "[{'label': 'Negative', 'score': 0.9998007416725159}]\n",
      "Model and Tokenizer saved to ./saved_model\n",
      "Name: special_tokens_map.json\n",
      "  Type: File\n",
      "  Size: 125 bytes\n",
      "  Created: Fri May 31 19:20:56 2024\n",
      "  Modified: Fri May 31 19:20:56 2024\n",
      "\n",
      "Name: config.json\n",
      "  Type: File\n",
      "  Size: 1067 bytes\n",
      "  Created: Fri May 31 19:20:56 2024\n",
      "  Modified: Fri May 31 19:20:56 2024\n",
      "\n",
      "Name: tokenizer_config.json\n",
      "  Type: File\n",
      "  Size: 1243 bytes\n",
      "  Created: Fri May 31 19:20:56 2024\n",
      "  Modified: Fri May 31 19:20:56 2024\n",
      "\n",
      "Name: tokenizer.json\n",
      "  Type: File\n",
      "  Size: 439125 bytes\n",
      "  Created: Fri May 31 19:20:56 2024\n",
      "  Modified: Fri May 31 19:20:56 2024\n",
      "\n",
      "Name: model.safetensors\n",
      "  Type: File\n",
      "  Size: 409092920 bytes\n",
      "  Created: Fri May 31 19:20:56 2024\n",
      "  Modified: Fri May 31 19:20:56 2024\n",
      "\n",
      "Name: vocab.txt\n",
      "  Type: File\n",
      "  Size: 109540 bytes\n",
      "  Created: Fri May 31 19:20:56 2024\n",
      "  Modified: Fri May 31 19:20:56 2024\n",
      "\n"
     ]
    }
   ],
   "source": [
    "from transformers import AutoTokenizer, AutoModel\n",
    "from transformers import pipeline\n",
    "import os\n",
    "import time\n",
    "def list_directory_details(path):\n",
    "    with os.scandir(path) as entries:\n",
    "        for entry in entries:\n",
    "            info = entry.stat()\n",
    "            print(f\"Name: {entry.name}\")\n",
    "            print(f\"  Type: {'Directory' if entry.is_dir() else 'File'}\")\n",
    "            print(f\"  Size: {info.st_size} bytes\")\n",
    "            print(f\"  Created: {time.ctime(info.st_ctime)}\")\n",
    "            print(f\"  Modified: {time.ctime(info.st_mtime)}\")\n",
    "            print()\n",
    "            \n",
    "model_name = \"hw2942/bert-base-chinese-finetuning-financial-news-sentiment-v2\"\n",
    "tokenizer = AutoTokenizer.from_pretrained(model_name)\n",
    "model = AutoModel.from_pretrained(model_name)\n",
    "\n",
    "prompt = \"恒大、碧桂园接连暴雷,万科也岌岌可危\"\n",
    "generator =pipeline(task=\"sentiment-analysis\", model=model_name)\n",
    "result = generator(prompt)\n",
    "\n",
    "print(result)\n",
    "\n",
    "save_directory = \"./saved_model\"\n",
    "tokenizer.save_pretrained(save_directory)\n",
    "model.save_pretrained(save_directory)\n",
    "print(f\"Model and Tokenizer saved to {save_directory}\")\n",
    "list_directory_details(save_directory)\n",
    "\n"
   ]
  },
  {
   "cell_type": "code",
   "execution_count": null,
   "id": "ece78dfc-d63e-4a23-a0fb-231b677a3621",
   "metadata": {},
   "outputs": [],
   "source": []
  },
  {
   "cell_type": "code",
   "execution_count": null,
   "id": "af627069-bbaf-4a3d-b722-4a0367c01436",
   "metadata": {},
   "outputs": [],
   "source": []
  }
 ],
 "metadata": {
  "kernelspec": {
   "display_name": "Python 3 (ipykernel)",
   "language": "python",
   "name": "python3"
  },
  "language_info": {
   "codemirror_mode": {
    "name": "ipython",
    "version": 3
   },
   "file_extension": ".py",
   "mimetype": "text/x-python",
   "name": "python",
   "nbconvert_exporter": "python",
   "pygments_lexer": "ipython3",
   "version": "3.11.9"
  }
 },
 "nbformat": 4,
 "nbformat_minor": 5
}
